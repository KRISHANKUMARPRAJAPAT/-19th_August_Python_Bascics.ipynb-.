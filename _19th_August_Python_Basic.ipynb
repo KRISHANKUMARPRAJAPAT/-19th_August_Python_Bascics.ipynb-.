{
 "cells": [
  {
   "cell_type": "markdown",
   "id": "28c75de0-68f5-4b80-beb5-d772a2b7dbd7",
   "metadata": {},
   "source": [
    "# **TOPIC: Python Basics Variable**"
   ]
  },
  {
   "cell_type": "markdown",
   "id": "8c71e0f3-40ee-4992-9c2d-e890f69dcfca",
   "metadata": {},
   "source": [
    "# Q1. Declare two variables, `x` and `y`, and assign them integer values. Swap the values of these variables without using any temporary variable."
   ]
  },
  {
   "cell_type": "markdown",
   "id": "ad0148ab-e93e-49b6-b961-58c336709806",
   "metadata": {},
   "source": [
    "# Ans: 1\n",
    "\n",
    "**Swapping:**\n",
    "swapping refers to the exchange of values between two variables. It's a common operation when you want to reassign the values of two variables such that the value of one variable becomes the value of the other, and vice versa."
   ]
  },
  {
   "cell_type": "code",
   "execution_count": 1,
   "id": "0285da08-da2a-400f-9be3-e76eb6bf0a8d",
   "metadata": {},
   "outputs": [
    {
     "name": "stdout",
     "output_type": "stream",
     "text": [
      "After swapping:\n",
      "x= 20\n",
      "y= 15\n"
     ]
    }
   ],
   "source": [
    "#before swapping\n",
    "x= 15\n",
    "y= 20\n",
    "\n",
    "x = x+y\n",
    "y = x-y\n",
    "x = x-y\n",
    "\n",
    "print(\"After swapping:\")\n",
    "print(\"x=\", x)\n",
    "print(\"y=\", y)"
   ]
  },
  {
   "cell_type": "code",
   "execution_count": null,
   "id": "bee9cc2f-302b-4bfb-8e7e-22cff6081d73",
   "metadata": {},
   "outputs": [],
   "source": []
  },
  {
   "cell_type": "markdown",
   "id": "81c31e5e-df2b-4f1e-b54c-f64d7fc32d9d",
   "metadata": {},
   "source": [
    "# Q2. Create a program that calculates the area of a rectangle. Take the length and width as inputs from the user and store them in variables. Calculate and display the area."
   ]
  },
  {
   "cell_type": "code",
   "execution_count": 2,
   "id": "d7bf999d-81fd-4654-bf51-7bb53770a648",
   "metadata": {},
   "outputs": [],
   "source": [
    "# Ans: 2 \n",
    "\n",
    "def calculate_rectangle_area(length, width):\n",
    "    '''\n",
    "    Calculate the area of a rectangle.\n",
    "    \n",
    "    parameters:\n",
    "    length(float): the length of the rectangle.\n",
    "    width(float): the width of the rectangle.\n",
    "    \n",
    "    Returns:\n",
    "    float: The area of the rectangle.\n",
    "    '''\n",
    "    \n",
    "    area = length * width\n",
    "    return area\n",
    "\n",
    "def krish():\n",
    "    try:\n",
    "        #taking the input from the user\n",
    "        length = float(input('Enter the length of the rectangle: '))\n",
    "        width = float(input('Enter the length of the rectangle: '))\n",
    "        \n",
    "        # calculating the area using the function\n",
    "        area = calculate_rectangle_area(length,width)\n",
    "        \n",
    "        # displaying the calculated area\n",
    "        print('The area of the rectangle is : ', area)\n",
    "        \n",
    "    except ValueError:\n",
    "        print('Invalid input. Please enter valid numeric values for length and width. ')\n",
    "        \n",
    "        \n",
    "# call the krish() function for the code.        \n",
    "if __name__ == '__krish__':\n",
    "    krish()"
   ]
  },
  {
   "cell_type": "code",
   "execution_count": 3,
   "id": "a2e4a4f1-9aa7-4a6d-b0f7-c5a09fb5450f",
   "metadata": {},
   "outputs": [
    {
     "name": "stdin",
     "output_type": "stream",
     "text": [
      "Enter the length of the rectangle:  44\n",
      "Enter the length of the rectangle:  78\n"
     ]
    },
    {
     "name": "stdout",
     "output_type": "stream",
     "text": [
      "The area of the rectangle is :  3432.0\n"
     ]
    }
   ],
   "source": [
    "krish()"
   ]
  },
  {
   "cell_type": "code",
   "execution_count": null,
   "id": "c6ffdbf3-1b4b-43a9-9fd7-30751ea32db4",
   "metadata": {},
   "outputs": [],
   "source": []
  },
  {
   "cell_type": "markdown",
   "id": "2292946a-1857-4bb7-8035-f3497d7f5688",
   "metadata": {},
   "source": [
    "# Q3. Write a Python program that converts temperature from Celsius to Fahrenheit. Take the temperature in Celsius as input, store it in a variable, convert it to Fahrenheit, and display the result."
   ]
  },
  {
   "cell_type": "code",
   "execution_count": 6,
   "id": "0ad4d005-9eaa-43f5-b953-2a6c97dd7a41",
   "metadata": {},
   "outputs": [],
   "source": [
    "# Ans: 3 \n",
    "\n",
    "def cls_to_fht(celsius):\n",
    "    '''\n",
    "    convert temperature from celsius to fahrenheit.\n",
    "    \n",
    "    Parameters:\n",
    "    celsius(float): Temperature in celsius.\n",
    "    \n",
    "    Return:\n",
    "    float: Temperature in fehrenheit.'''\n",
    "    \n",
    "    fahrenheit= (celsius * 9/5) + 32\n",
    "    return fahrenheit \n",
    "\n",
    "def krish():\n",
    "    try:\n",
    "        # taking input from the user\n",
    "        celsius = float(input('Enter the temperature in celsius:'))\n",
    "        \n",
    "        # converting temp. using the function\n",
    "        fahrenheit = cls_to_fht(celsius)\n",
    "        \n",
    "        # displaying the converted temp.\n",
    "        print('Temperature in Fahrenheit:' , fahrenheit)\n",
    "        \n",
    "    except ValueError:\n",
    "        print('Invalid input. Please enter a valid numeric value for temperature.')\n",
    "    \n",
    "    \n",
    "    \n",
    "# call the krish() function for the code.           \n",
    "if __name__ == '__krish__':\n",
    "    krish()"
   ]
  },
  {
   "cell_type": "code",
   "execution_count": 8,
   "id": "512ec148-e445-4a7c-ada8-cc6fc6c3b2c0",
   "metadata": {},
   "outputs": [
    {
     "name": "stdin",
     "output_type": "stream",
     "text": [
      "Enter the temperature in celsius: 78\n"
     ]
    },
    {
     "name": "stdout",
     "output_type": "stream",
     "text": [
      "Temperature in Fahrenheit: 172.4\n"
     ]
    }
   ],
   "source": [
    "krish()"
   ]
  },
  {
   "cell_type": "code",
   "execution_count": null,
   "id": "56e7cb7b-d506-47f5-87b8-4b105e758909",
   "metadata": {},
   "outputs": [],
   "source": []
  },
  {
   "cell_type": "markdown",
   "id": "79d3ce01-e7a4-4114-925a-2c557362b3d5",
   "metadata": {},
   "source": [
    "# **TOPIC: String Based Questions**"
   ]
  },
  {
   "cell_type": "markdown",
   "id": "bc1e0e6d-b116-485f-9df3-99994ed0f54a",
   "metadata": {},
   "source": [
    "# Q.1 Write a Python program that takes a string as input and prints the length of the string."
   ]
  },
  {
   "cell_type": "code",
   "execution_count": 12,
   "id": "4f25cdfb-237a-479d-89af-1409fee13a96",
   "metadata": {},
   "outputs": [
    {
     "name": "stdin",
     "output_type": "stream",
     "text": [
      "Enter a string:  hello pwskills, my name is krishna kumar and i am enjoying my learnings from the course.\n"
     ]
    },
    {
     "name": "stdout",
     "output_type": "stream",
     "text": [
      "Length of the string: 88\n"
     ]
    }
   ],
   "source": [
    "# Ans: 1 \n",
    "\n",
    "# Prompt the user to input a string\n",
    "input_string = input(\"Enter a string: \")\n",
    "\n",
    "# Use the len() function to calculate the length of the input string\n",
    "string_length = len(input_string)\n",
    "\n",
    "# Print the length of the string\n",
    "print(\"Length of the string:\", string_length)"
   ]
  },
  {
   "cell_type": "code",
   "execution_count": null,
   "id": "9f88b98c-bfef-421b-8a62-eec4c7447fb8",
   "metadata": {},
   "outputs": [],
   "source": []
  },
  {
   "cell_type": "markdown",
   "id": "7db86fcc-1821-4d87-9ff7-79352bf5b5a2",
   "metadata": {},
   "source": [
    "# Q.2 Create a program that takes a sentence from the user and counts the number of vowels (a, e, i, o, u) in the string."
   ]
  },
  {
   "cell_type": "code",
   "execution_count": 13,
   "id": "4ea61be0-fe3a-4ef5-a967-d5fd0da039d4",
   "metadata": {},
   "outputs": [
    {
     "name": "stdin",
     "output_type": "stream",
     "text": [
      "Enter a sentence:  hello, bachhon to kaise hai aap log.\n"
     ]
    },
    {
     "name": "stdout",
     "output_type": "stream",
     "text": [
      "Number of vowels in the sentence: 13\n"
     ]
    }
   ],
   "source": [
    "# Ans: 2 \n",
    "\n",
    "# Taking input from the user\n",
    "user_sentence = input(\"Enter a sentence: \")\n",
    "\n",
    "# Initializing the vowel count\n",
    "vowel_count = 0\n",
    "\n",
    "# Checking each character in the sentence\n",
    "for char in user_sentence:\n",
    "    if char.lower() in \"aeiou\":\n",
    "        vowel_count += 1\n",
    "\n",
    "# Displaying the count of vowels\n",
    "print(\"Number of vowels in the sentence:\", vowel_count)\n"
   ]
  },
  {
   "cell_type": "code",
   "execution_count": null,
   "id": "ab904e44-24bd-4201-ace2-23795d429f14",
   "metadata": {},
   "outputs": [],
   "source": []
  },
  {
   "cell_type": "markdown",
   "id": "37c9cc0c-f58b-4880-b48d-52dbab98a53e",
   "metadata": {},
   "source": [
    "# Q.3 Given a string, reverse the order of characters using string slicing and print the reversed string."
   ]
  },
  {
   "cell_type": "code",
   "execution_count": 14,
   "id": "93a3060f-dc86-4614-a53e-4a7ad8515087",
   "metadata": {},
   "outputs": [
    {
     "name": "stdin",
     "output_type": "stream",
     "text": [
      "Enter a string:  my name is krishna and i am from rajasthan.\n"
     ]
    },
    {
     "name": "stdout",
     "output_type": "stream",
     "text": [
      "Reversed string: .nahtsajar morf ma i dna anhsirk si eman ym\n"
     ]
    }
   ],
   "source": [
    "# Ans: 3 \n",
    "\n",
    "# Taking input from the user\n",
    "input_string = input(\"Enter a string: \")\n",
    "\n",
    "# Reversing the string using string slicing\n",
    "reversed_string = input_string[::-1]\n",
    "\n",
    "# Displaying the reversed string\n",
    "print(\"Reversed string:\", reversed_string)"
   ]
  },
  {
   "cell_type": "code",
   "execution_count": null,
   "id": "1bbdb03e-eb88-45a6-a75f-0d626eb26b82",
   "metadata": {},
   "outputs": [],
   "source": []
  },
  {
   "cell_type": "markdown",
   "id": "f4c44384-e8d4-496b-beb2-5e4405123f31",
   "metadata": {},
   "source": [
    "# Q.4 Write a program that takes a string as input and checks if it is a palindrome (reads the same forwards and backwards)."
   ]
  },
  {
   "cell_type": "code",
   "execution_count": 19,
   "id": "9f66bf80-805f-4993-a58c-3bba9d80ef22",
   "metadata": {},
   "outputs": [
    {
     "name": "stdin",
     "output_type": "stream",
     "text": [
      "Enter a string:  level\n"
     ]
    },
    {
     "name": "stdout",
     "output_type": "stream",
     "text": [
      "The string is a palindrome.\n"
     ]
    }
   ],
   "source": [
    "# Ans: 4 \n",
    "\n",
    "# Taking input from the user\n",
    "user_string = input(\"Enter a string: \")\n",
    "\n",
    "# Reversing the string and comparing it to the original\n",
    "if user_string.lower() == user_string.lower()[::-1]:\n",
    "    print(\"The string is a palindrome.\")\n",
    "else:\n",
    "    print(\"The string is not a palindrome.\")"
   ]
  },
  {
   "cell_type": "code",
   "execution_count": null,
   "id": "3f226a21-bef7-44a5-815a-5f963d50c7f7",
   "metadata": {},
   "outputs": [],
   "source": []
  },
  {
   "cell_type": "markdown",
   "id": "92a4a386-13d9-4af1-a2af-e270d710bd35",
   "metadata": {},
   "source": [
    "# Q.5 Create a program that takes a string as input and removes all the spaces from it. Print the modified string without spaces."
   ]
  },
  {
   "cell_type": "code",
   "execution_count": 21,
   "id": "a0c6f356-4696-4cfd-8f49-310de6c43212",
   "metadata": {},
   "outputs": [
    {
     "name": "stdin",
     "output_type": "stream",
     "text": [
      "Enter a string:  sudhanshu sir's teaching style is osm.\n"
     ]
    },
    {
     "name": "stdout",
     "output_type": "stream",
     "text": [
      "Modified string without spaces: sudhanshusir'steachingstyleisosm.\n"
     ]
    }
   ],
   "source": [
    "# Ans: 5 \n",
    "\n",
    "# Taking input from the user\n",
    "user_string = input(\"Enter a string: \")\n",
    "\n",
    "# Removing spaces from the input string\n",
    "modified_string = user_string.replace(\" \", \"\")\n",
    "\n",
    "# Displaying the modified string without spaces\n",
    "print(\"Modified string without spaces:\", modified_string)"
   ]
  },
  {
   "cell_type": "code",
   "execution_count": null,
   "id": "4c9bdb1a-e181-448f-bf60-71f0080f6631",
   "metadata": {},
   "outputs": [],
   "source": []
  },
  {
   "cell_type": "code",
   "execution_count": null,
   "id": "9d018d57-191b-418e-aaa3-962f604111d2",
   "metadata": {},
   "outputs": [],
   "source": []
  }
 ],
 "metadata": {
  "kernelspec": {
   "display_name": "Python 3 (ipykernel)",
   "language": "python",
   "name": "python3"
  },
  "language_info": {
   "codemirror_mode": {
    "name": "ipython",
    "version": 3
   },
   "file_extension": ".py",
   "mimetype": "text/x-python",
   "name": "python",
   "nbconvert_exporter": "python",
   "pygments_lexer": "ipython3",
   "version": "3.10.8"
  }
 },
 "nbformat": 4,
 "nbformat_minor": 5
}
